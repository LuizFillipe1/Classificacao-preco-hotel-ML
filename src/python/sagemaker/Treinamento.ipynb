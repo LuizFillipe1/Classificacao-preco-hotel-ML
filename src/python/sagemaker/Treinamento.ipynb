{
 "cells": [
  {
   "cell_type": "markdown",
   "id": "0f7a240c",
   "metadata": {},
   "source": [
    "<p style=\"text-align:center\">\n",
    "    <img src=\"https://cdn.discordapp.com/attachments/1253438405740593182/1253780484190896288/compasso-uol.png?ex=66771991&is=6675c811&hm=e78b900dc1e9184169baaad060a92928217fca81d29bf853ac13dd22f59cc1c6&\" width=\"200\" alt=\"Skills Network Logo\"  />\n",
    "    </a>\n",
    "</p>"
   ]
  },
  {
   "cell_type": "markdown",
   "id": "643d8720",
   "metadata": {},
   "source": [
    "<h1 style=\"text-align: center;\">Hotel Reservations with Machine Learning</h1>"
   ]
  },
  {
   "cell_type": "markdown",
   "id": "e8c099f4",
   "metadata": {},
   "source": [
    "<p style=\"text-align:center\">\n",
    "    <img src=\"https://cdn.discordapp.com/attachments/1253438405740593182/1253781078343286844/hotel-reservation-services-1000x1000.jpg?ex=66771a1f&is=6675c89f&hm=dd35bacdc6982b2c03a227df96fafe8d9f2c3a1f71b80c36880a7cd1fe274c46&\" width=\"400\" alt=\"Skills Network Logo\"  />\n",
    "    </a>\n",
    "</p>"
   ]
  },
  {
   "cell_type": "markdown",
   "id": "c35505aa",
   "metadata": {},
   "source": [
    "### Importando as Bibliotecas"
   ]
  },
  {
   "cell_type": "code",
   "execution_count": null,
   "id": "c23d3221-8078-4f8a-8148-4f4cf8333081",
   "metadata": {},
   "outputs": [],
   "source": [
    "import sagemaker\n",
    "import boto3\n",
    "import pandas as pd\n",
    "import numpy as np\n",
    "from sagemaker import Session\n",
    "from sklearn.preprocessing import LabelEncoder\n",
    "from sklearn.model_selection import train_test_split\n",
    "from sklearn.metrics import accuracy_score, classification_report\n",
    "from sagemaker.sklearn.estimator import SKLearn\n",
    "from sagemaker import get_execution_role\n",
    "from dotenv import dotenv_values, load_dotenv\n",
    "import os\n",
    "import tarfile"
   ]
  },
  {
   "cell_type": "markdown",
   "id": "0a760bd3",
   "metadata": {},
   "source": [
    "### Carregando variaveis de ambiente e configurando a sessão"
   ]
  },
  {
   "cell_type": "code",
   "execution_count": null,
   "id": "47826f55",
   "metadata": {},
   "outputs": [],
   "source": [
    "\n",
    "# Carrega variáveis de ambiente a partir de um arquivo .env\n",
    "load_dotenv()\n",
    "bucket = os.getenv('bucket')  \n",
    "print('Using bucket ' + bucket)\n",
    "\n",
    "# Configuração de sessão\n",
    "boto3_session = boto3.Session()\n",
    "s3_client = boto3_session.client('s3')\n",
    "sm_boto3 = boto3_session.client('sagemaker')\n",
    "session = sagemaker.Session(boto_session=boto3_session)"
   ]
  },
  {
   "cell_type": "markdown",
   "id": "10a813fa",
   "metadata": {},
   "source": [
    "### Configurando os buckets, paths e fazendo a preparação de dados"
   ]
  },
  {
   "cell_type": "code",
   "execution_count": null,
   "id": "f9825c72-5270-4d52-a367-73d013542639",
   "metadata": {},
   "outputs": [],
   "source": [
    "# Configuração de buckets e paths\n",
    "subpasta_modelo = 'modelo'\n",
    "subpasta_dataset = 'datasets'\n",
    "role = os.getenv('role')  \n",
    "print(role)\n",
    "\n",
    "# Carregando e processando o dataset\n",
    "dataset = pd.read_csv('Hotel Reservations.csv')\n",
    "\n",
    "# Categorizando a nova coluna de acordo com o preço\n",
    "def categorize_price(price):\n",
    "    if price <= 85:\n",
    "        return 1\n",
    "    elif price < 115:\n",
    "        return 2\n",
    "    else:\n",
    "        return 3\n",
    "\n",
    "# Excluir a coluna avg_price_per_room e a coluna ID\n",
    "dataset['label_avg_price_per_room'] = dataset['avg_price_per_room'].apply(categorize_price)\n",
    "dataset = dataset.drop(columns=['avg_price_per_room'])\n",
    "dataset = dataset.drop(columns=['Booking_ID'])\n",
    "\n",
    "# Codificação das colunas categóricas\n",
    "categorical_columns = dataset.select_dtypes(include=['object']).columns\n",
    "\n",
    "# Limpeza e preparação das colunas categoricas\n",
    "label_encoders = {}\n",
    "for col in categorical_columns:\n",
    "    le = LabelEncoder()\n",
    "    dataset[col] = le.fit_transform(dataset[col])\n",
    "    label_encoders[col] = le\n",
    "\n",
    "# Preparação dos dados\n",
    "X = dataset.drop(columns=['label_avg_price_per_room'])\n",
    "y = dataset['label_avg_price_per_room']\n",
    "X = np.array(X).astype('float32')\n",
    "y = np.array(y).astype('float32')\n",
    "\n",
    "# Salvando o dataset modificado em um novo arquivo CSV\n",
    "dataset.to_csv('Hotel_Reservations_Modified.csv', index=False)"
   ]
  },
  {
   "cell_type": "markdown",
   "id": "841a91de",
   "metadata": {},
   "source": [
    "### Criação das variaveis de treinamento e teste do modelo"
   ]
  },
  {
   "cell_type": "code",
   "execution_count": null,
   "id": "b890fc3a",
   "metadata": {},
   "outputs": [],
   "source": [
    "# Criando as variaveis para o preenchimento da entrada do modelo\n",
    "attributes = list(dataset.columns)\n",
    "label = 'label_avg_price_per_room'"
   ]
  },
  {
   "cell_type": "code",
   "execution_count": null,
   "id": "596d1cee",
   "metadata": {},
   "outputs": [],
   "source": [
    "# Criando as variaveis de teste e treinamento do modelo\n",
    "X_data = dataset [attributes]\n",
    "y_data = dataset [label] \n",
    "\n",
    "X_train, X_test, y_train, y_test = train_test_split(X_data, y_data, test_size=0.2, random_state=42)"
   ]
  },
  {
   "cell_type": "code",
   "execution_count": null,
   "id": "d2e4ec34-e3bc-4f4e-95ff-93b3464b7f49",
   "metadata": {},
   "outputs": [],
   "source": [
    "# Recebendo o dataframe nas variaveis de treinamento e teste\n",
    "trainX = pd.DataFrame(X_train, columns=attributes)\n",
    "trainX[label] = y_train\n",
    "\n",
    "testX = pd.DataFrame(X_test, columns=attributes)\n",
    "testX[label] = y_test"
   ]
  },
  {
   "cell_type": "code",
   "execution_count": null,
   "id": "2f475e6f",
   "metadata": {},
   "outputs": [],
   "source": [
    "# associando o banco de dados as variaveis de treino e teste\n",
    "trainX.to_csv(\"train-V-1.csv\",index = False)\n",
    "testX.to_csv(\"test-V-1.csv\", index = False)"
   ]
  },
  {
   "cell_type": "markdown",
   "id": "5275a725",
   "metadata": {},
   "source": [
    "### Enviando os dados para S3"
   ]
  },
  {
   "cell_type": "code",
   "execution_count": null,
   "id": "c60e7fc0-e93c-4dca-8f6b-9f7751dd21c9",
   "metadata": {},
   "outputs": [],
   "source": [
    "# envia os dados para S3. Para ser treinado no SageMaker\n",
    "trainpath = session.upload_data(\n",
    "    path='train-V-1.csv', bucket=bucket,\n",
    "    key_prefix='sagemaker')\n",
    "\n",
    "testpath = session.upload_data(\n",
    "    path='test-V-1.csv', bucket=bucket,\n",
    "    key_prefix='sagemaker')"
   ]
  },
  {
   "cell_type": "markdown",
   "id": "dc4166b0",
   "metadata": {},
   "source": [
    "### Criação do script, contendo o modelo e os parametros para o treinamento"
   ]
  },
  {
   "cell_type": "code",
   "execution_count": null,
   "id": "7a19faa8-1bf0-4d33-9b4d-cb730b8575be",
   "metadata": {},
   "outputs": [],
   "source": [
    "%%writefile script.py\n",
    "\n",
    "from sklearn.ensemble import RandomForestClassifier\n",
    "from sklearn.metrics import accuracy_score, classification_report, confusion_matrix, precision_score, recall_score, f1_score, roc_curve, auc\n",
    "import sklearn\n",
    "import joblib\n",
    "import boto3\n",
    "import pathlib\n",
    "from io import StringIO \n",
    "import argparse\n",
    "import joblib\n",
    "import os\n",
    "import numpy as np\n",
    "import pandas as pd\n",
    "    \n",
    "def model_fn(model_dir):\n",
    "    clf = joblib.load(os.path.join(model_dir, \"model.joblib\"))\n",
    "    return clf\n",
    "    \n",
    "if __name__ == \"__main__\":\n",
    "\n",
    "    print(\"[INFO] Extracting arguments\")\n",
    "    parser = argparse.ArgumentParser()\n",
    "\n",
    "    # hyperparameters sent by the client are passed as command-line arguments to the script.\n",
    "    parser.add_argument('--n_estimators', type=int, default=100)\n",
    "    parser.add_argument('--random_state', type=int, default=0)\n",
    "\n",
    "    # Data, model, and output directories\n",
    "    parser.add_argument(\"--model-dir\", type=str, default=os.environ.get(\"SM_MODEL_DIR\"))\n",
    "    parser.add_argument(\"--train\", type=str, default=os.environ.get(\"SM_CHANNEL_TRAIN\"))\n",
    "    parser.add_argument(\"--test\", type=str, default=os.environ.get(\"SM_CHANNEL_TEST\"))\n",
    "    parser.add_argument(\"--train-file\", type=str, default=\"train-V-1.csv\")\n",
    "    parser.add_argument(\"--test-file\", type=str, default=\"test-V-1.csv\")\n",
    "\n",
    "    args, _ = parser.parse_known_args()\n",
    "    \n",
    "    print(\"SKLearn Version: \", sklearn.__version__)\n",
    "    print(\"Joblib Version: \", joblib.__version__)\n",
    "    print(\"[INFO] Reading data\")\n",
    "    print()\n",
    "\n",
    "    train_df = pd.read_csv(os.path.join(args.train, args.train_file))\n",
    "    test_df = pd.read_csv(os.path.join(args.test, args.test_file))\n",
    "    \n",
    "    features = list(train_df.columns)\n",
    "    label = features.pop(-1)\n",
    "    \n",
    "    print(\"Building training and testing datasets\")\n",
    "    print()\n",
    "    X_train = train_df[features]\n",
    "    X_test = test_df[features]\n",
    "    y_train = train_df[label]\n",
    "    y_test = test_df[label]\n",
    "\n",
    "    print('Column order: ')\n",
    "    print(features)\n",
    "    print()\n",
    "    \n",
    "    print(\"Label column is: \",label)\n",
    "    print()\n",
    "    \n",
    "    print(\"Data Shape: \")\n",
    "    print()\n",
    "    print(\"---- SHAPE OF TRAINING DATA (85%) ----\")\n",
    "    print(X_train.shape)\n",
    "    print(y_train.shape)\n",
    "    print()\n",
    "    print(\"---- SHAPE OF TESTING DATA (15%) ----\")\n",
    "    print(X_test.shape)\n",
    "    print(y_test.shape)\n",
    "    print()\n",
    "    \n",
    "  \n",
    "    print(\"Training RandomForest Model.....\")\n",
    "    print()\n",
    "    model =  RandomForestClassifier(n_estimators=args.n_estimators, random_state=args.random_state, verbose = 3,n_jobs=-1)\n",
    "    model.fit(X_train, y_train)\n",
    "    print()\n",
    "    \n",
    "    model_path = os.path.join(args.model_dir, \"model.joblib\")\n",
    "    joblib.dump(model,model_path)\n",
    "    print(\"Model persisted at \" + model_path)\n",
    "    print()\n",
    "\n",
    "    y_pred_test = model.predict(X_test)\n",
    "    test_acc = accuracy_score(y_test,y_pred_test)\n",
    "    test_rep = classification_report(y_test,y_pred_test)\n",
    "\n",
    "    print()\n",
    "    print(\"---- METRICS RESULTS FOR TESTING DATA ----\")\n",
    "    print()\n",
    "    print(\"Total Rows are: \", X_test.shape[0])\n",
    "    print('[TESTING] Model Accuracy is: ', test_acc)\n",
    "    print('[TESTING] Testing Report: ')\n",
    "    print(test_rep)"
   ]
  },
  {
   "cell_type": "markdown",
   "id": "68919ae9",
   "metadata": {},
   "source": [
    "### Configurando os parametros para o Estimador"
   ]
  },
  {
   "cell_type": "code",
   "execution_count": null,
   "id": "0ec9322d",
   "metadata": {},
   "outputs": [],
   "source": [
    "# Chamando o Estimator do SageMaker Python SDK\n",
    "from sagemaker.sklearn.estimator import SKLearn\n",
    "\n",
    "print(role)\n",
    "# Configurando os parametros do estimador \n",
    "sklearn_estimator = SKLearn(\n",
    "    entry_point=\"script.py\", \n",
    "    role=role,\n",
    "    instance_count=1,\n",
    "    instance_type=\"ml.m5.large\",\n",
    "    framework_version=\"1.2-1\",\n",
    "    base_job_name=\"RF-custom-sklearn\",\n",
    "\n",
    "    # Hiperparâmetros que serão passados para o script de treinamento\n",
    "    hyperparameters={\n",
    "        \"n_estimators\": 100, # Número de árvores na floresta do classificador RandomForest\n",
    "        \"random_state\": 0, # Semente para o gerador de números aleatórios, para reprodutibilidade\n",
    "    },\n",
    "    \n",
    "    use_spot_instances = True,\n",
    "    max_wait = 7200, \n",
    "    max_run = 3600,\n",
    ")"
   ]
  },
  {
   "cell_type": "markdown",
   "id": "5541c5c6",
   "metadata": {},
   "source": [
    "### Executando o treinamento do modelo"
   ]
  },
  {
   "cell_type": "code",
   "execution_count": null,
   "id": "fdb65a19-3247-4995-bb19-2ee42cc1262f",
   "metadata": {},
   "outputs": [],
   "source": [
    "# launch training job, with asynchronous call\n",
    "sklearn_estimator.fit({\"train\": trainpath, \"test\": testpath}, wait=True, logs=True)\n",
    "\n",
    "artifact = sm_boto3.describe_training_job(\n",
    "    TrainingJobName=sklearn_estimator.latest_training_job.name)['ModelArtifacts']['S3ModelArtifacts']\n",
    "\n",
    "print('Model artifact persisted at ' + artifact)"
   ]
  },
  {
   "cell_type": "markdown",
   "id": "b652d808",
   "metadata": {},
   "source": [
    "### Salvando a saida do treinamento convertendo em joblib e salvando na s3"
   ]
  },
  {
   "cell_type": "code",
   "execution_count": null,
   "id": "86e7cd56",
   "metadata": {},
   "outputs": [],
   "source": [
    "bucket_name = os.getenv('bucket_name') #TROCAR PARA O NOME DO BUCKET NO QUAL FOI CRIADO O MODEL.TAR.GZ\n",
    "s3_key ='RF-custom-sklearn-2024-06-21-15-06-33-705/output/model.tar.gz' #TROCAR PARA O ENDEREÇO CORRETO\n",
    "local_tar_path = 'model.tar.gz'\n",
    "extracted_model_path = 'model.pkl'\n",
    "model_s3_key = f'{subpasta_modelo}/model.joblib' # Caminho completo no S3\n",
    "\n",
    "s3 = boto3.client('s3')\n",
    "\n",
    "s3.download_file(bucket_name, s3_key, local_tar_path)\n",
    "print(f'{local_tar_path} baixado')\n",
    "\n",
    "with tarfile.open(local_tar_path, 'r:gz') as tar:\n",
    "    tar.extractall()\n",
    "    extracted_files = tar.getnames()\n",
    "    print(f'Arquivo {local_tar_path} extraído para {extracted_files}')\n",
    "\n",
    "extracted_model_path = None\n",
    "for file_name in extracted_files:\n",
    "    if file_name.endswith('.joblib'):\n",
    "        extracted_model_path = file_name\n",
    "        break\n",
    "\n",
    "if extracted_model_path and os.path.exists(extracted_model_path):\n",
    "    os.rename(extracted_model_path, 'model.joblib')\n",
    "else:\n",
    "    print(f'Arquivo model.joblib não encontrado após a extração.')\n",
    "\n",
    "# subindo o resultado para a s3\n",
    "if os.path.exists('model.joblib'):\n",
    "    s3.upload_file('model.joblib', bucket_name, model_s3_key)\n",
    "    print(f'Arquivo model.joblib carregado para s3://{bucket_name}/{model_s3_key}')\n",
    "else:\n",
    "    print('Arquivo model.joblib não encontrado localmente para fazer upload.')"
   ]
  }
 ],
 "metadata": {
  "kernelspec": {
   "display_name": "Python 3 (ipykernel)",
   "language": "python",
   "name": "python3"
  },
  "language_info": {
   "codemirror_mode": {
    "name": "ipython",
    "version": 3
   },
   "file_extension": ".py",
   "mimetype": "text/x-python",
   "name": "python",
   "nbconvert_exporter": "python",
   "pygments_lexer": "ipython3",
   "version": "3.11.1"
  }
 },
 "nbformat": 4,
 "nbformat_minor": 5
}
