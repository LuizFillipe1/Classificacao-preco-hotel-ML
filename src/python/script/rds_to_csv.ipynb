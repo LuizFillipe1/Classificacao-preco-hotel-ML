{
 "cells": [
  {
   "cell_type": "markdown",
   "metadata": {},
   "source": [
    "Exportação da tabela armazenada no MySQL RDS para um arquivo .csv"
   ]
  },
  {
   "cell_type": "code",
   "execution_count": null,
   "metadata": {},
   "outputs": [],
   "source": [
    "from sqlalchemy import create_engine\n",
    "import pandas as pd\n",
    "import os \n",
    "from dotenv import load_dotenv, dotenv_values\n",
    "\n",
    "# Carrega variáveis de ambiente a partir de um arquivo .env\n",
    "load_dotenv()\n",
    "\n",
    "# Configurações do banco de dados\n",
    "\n",
    "rds_host = os.getenv('RDS_HOST')\n",
    "rds_user = os.getenv('RDS_USER')\n",
    "rds_password = os.getenv('RDS_PASSWORD')\n",
    "database = os.getenv('DATABASE')\n",
    "table = os.getenv('TABLE_NAME')\n",
    "\n",
    "# Criação da URL de conexão\n",
    "connection_string = f'mysql+pymysql://{rds_user}:{rds_password}@{rds_host}/{database}'\n",
    "engine = create_engine(connection_string)\n",
    "\n",
    "# Consultar a tabela\n",
    "query = 'SELECT * FROM {}'.format(table)\n",
    "df = pd.read_sql(query, engine)\n",
    "\n",
    "# Exportar para CSV\n",
    "nome_arquivo = 'Hotel Reservations.csv'\n",
    "df.to_csv(nome_arquivo, index=False)"
   ]
  }
 ],
 "metadata": {
  "kernelspec": {
   "display_name": "Python 3",
   "language": "python",
   "name": "python3"
  },
  "language_info": {
   "codemirror_mode": {
    "name": "ipython",
    "version": 3
   },
   "file_extension": ".py",
   "mimetype": "text/x-python",
   "name": "python",
   "nbconvert_exporter": "python",
   "pygments_lexer": "ipython3",
   "version": "3.11.1"
  }
 },
 "nbformat": 4,
 "nbformat_minor": 2
}
